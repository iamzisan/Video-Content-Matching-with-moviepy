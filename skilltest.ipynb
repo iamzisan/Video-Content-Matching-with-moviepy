{
 "cells": [
  {
   "cell_type": "markdown",
   "id": "d864f39c",
   "metadata": {},
   "source": [
    "# Video Content Matching "
   ]
  },
  {
   "cell_type": "markdown",
   "id": "d155da0b",
   "metadata": {},
   "source": [
    "Import Required Libraries"
   ]
  },
  {
   "cell_type": "code",
   "execution_count": 17,
   "id": "9deb82fa",
   "metadata": {},
   "outputs": [],
   "source": [
    "import moviepy.editor as mp\n",
    "import imageio\n",
    "import numpy as np\n",
    "from skimage.metrics import structural_similarity as compare_ssim"
   ]
  },
  {
   "cell_type": "markdown",
   "id": "12c49cd7",
   "metadata": {},
   "source": [
    "Load and Process Videos"
   ]
  },
  {
   "cell_type": "code",
   "execution_count": 285,
   "id": "dc25799a",
   "metadata": {},
   "outputs": [],
   "source": [
    "# Load videos\n",
    "main_video = mp.VideoFileClip(\"main.mp4\")\n",
    "cut_video = mp.VideoFileClip(\"cut-part.mp4\")\n",
    "\n",
    "# Convert videos to numpy arrays (frames)\n",
    "main_frames = np.array(list(main_video.iter_frames()))\n",
    "cut_frames = np.array(list(cut_video.iter_frames()))\n",
    "\n",
    "# Convert frames to grayscale for SSIM comparison\n",
    "main_gray_frames = [imageio.core.util.Array(main_frame[:, :, 0]) for main_frame in main_frames]\n",
    "cut_gray_frames = [imageio.core.util.Array(cut_frame[:, :, 0]) for cut_frame in cut_frames]\n"
   ]
  },
  {
   "cell_type": "markdown",
   "id": "43ba4ada",
   "metadata": {},
   "source": [
    "Calculate Visual Similarity (SSIM)"
   ]
  },
  {
   "cell_type": "code",
   "execution_count": 286,
   "id": "1041f4a6",
   "metadata": {},
   "outputs": [
    {
     "name": "stdout",
     "output_type": "stream",
     "text": [
      "Visual Similarity: 9.75%\n"
     ]
    }
   ],
   "source": [
    "ssim_scores = []\n",
    "for main_gray_frame, cut_gray_frame in zip(main_gray_frames, cut_gray_frames):\n",
    "    ssim_score = compare_ssim(main_gray_frame, cut_gray_frame)\n",
    "    ssim_scores.append(ssim_score)\n",
    "\n",
    "# Calculate average SSIM score\n",
    "average_ssim_score = np.mean(ssim_scores)\n",
    "visual_similarity_percentage = average_ssim_score * 100\n",
    "print(f\"Visual Similarity: {visual_similarity_percentage:.2f}%\")"
   ]
  },
  {
   "cell_type": "markdown",
   "id": "1634600a",
   "metadata": {},
   "source": [
    "Calculate Audio Similarity"
   ]
  },
  {
   "cell_type": "code",
   "execution_count": 287,
   "id": "e79adfa2",
   "metadata": {
    "scrolled": true
   },
   "outputs": [
    {
     "name": "stdout",
     "output_type": "stream",
     "text": [
      "Audio Similarity: 85.31%\n"
     ]
    }
   ],
   "source": [
    "from scipy.signal import resample\n",
    "\n",
    "# Resample audio to match the shorter length\n",
    "if main_audio.shape[0] > cut_audio.shape[0]:\n",
    "    main_audio_resampled = resample(main_audio, cut_audio.shape[0], axis=0)\n",
    "    cut_audio_resampled = cut_audio\n",
    "else:\n",
    "    main_audio_resampled = main_audio\n",
    "    cut_audio_resampled = resample(cut_audio, main_audio.shape[0], axis=0)\n",
    "\n",
    "# Calculate RMSE between resampled audio signals\n",
    "rmse = np.sqrt(np.mean((main_audio_resampled - cut_audio_resampled)**2))\n",
    "audio_similarity_percentage = 100 * (1 - rmse / np.max(main_audio_resampled))\n",
    "print(f\"Audio Similarity: {audio_similarity_percentage:.2f}%\")"
   ]
  },
  {
   "cell_type": "markdown",
   "id": "c44a5175",
   "metadata": {},
   "source": [
    "Calculate Overall Similarity Percentage"
   ]
  },
  {
   "cell_type": "code",
   "execution_count": 288,
   "id": "c6ef15f6",
   "metadata": {},
   "outputs": [
    {
     "name": "stdout",
     "output_type": "stream",
     "text": [
      "Overall Similarity: 47.53%\n"
     ]
    }
   ],
   "source": [
    "overall_similarity_percentage = (visual_similarity_percentage + audio_similarity_percentage) / 2\n",
    "print(f\"Overall Similarity: {overall_similarity_percentage:.2f}%\")\n"
   ]
  },
  {
   "cell_type": "markdown",
   "id": "400f2449",
   "metadata": {},
   "source": [
    "Display Results"
   ]
  },
  {
   "cell_type": "code",
   "execution_count": 289,
   "id": "8ffbda1a",
   "metadata": {},
   "outputs": [
    {
     "name": "stdout",
     "output_type": "stream",
     "text": [
      "Results:\n",
      "Visual Similarity: 9.75%\n",
      "Audio Similarity: 85.31%\n",
      "Overall Similarity: 47.53%\n"
     ]
    }
   ],
   "source": [
    "print(\"Results:\")\n",
    "print(f\"Visual Similarity: {visual_similarity_percentage:.2f}%\")\n",
    "print(f\"Audio Similarity: {audio_similarity_percentage:.2f}%\")\n",
    "print(f\"Overall Similarity: {overall_similarity_percentage:.2f}%\")\n"
   ]
  },
  {
   "cell_type": "markdown",
   "id": "a22faf12",
   "metadata": {},
   "source": [
    "A basic program that calculates visual and audio similarity between the two videos and provides an overall similarity percentage"
   ]
  }
 ],
 "metadata": {
  "kernelspec": {
   "display_name": "Python 3 (ipykernel)",
   "language": "python",
   "name": "python3"
  },
  "language_info": {
   "codemirror_mode": {
    "name": "ipython",
    "version": 3
   },
   "file_extension": ".py",
   "mimetype": "text/x-python",
   "name": "python",
   "nbconvert_exporter": "python",
   "pygments_lexer": "ipython3",
   "version": "3.11.4"
  }
 },
 "nbformat": 4,
 "nbformat_minor": 5
}
